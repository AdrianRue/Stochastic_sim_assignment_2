{
 "cells": [
  {
   "cell_type": "code",
   "execution_count": null,
   "metadata": {},
   "outputs": [
    {
     "ename": "ModuleNotFoundError",
     "evalue": "No module named 'simpy'",
     "output_type": "error",
     "traceback": [
      "\u001b[1;31m---------------------------------------------------------------------------\u001b[0m",
      "\u001b[1;31mModuleNotFoundError\u001b[0m                       Traceback (most recent call last)",
      "Cell \u001b[1;32mIn[1], line 1\u001b[0m\n\u001b[1;32m----> 1\u001b[0m \u001b[38;5;28;01mimport\u001b[39;00m \u001b[38;5;21;01msimpy\u001b[39;00m\n\u001b[0;32m      2\u001b[0m \u001b[38;5;28;01mimport\u001b[39;00m \u001b[38;5;21;01mnumpy\u001b[39;00m \u001b[38;5;28;01mas\u001b[39;00m \u001b[38;5;21;01mnp\u001b[39;00m\n\u001b[0;32m      3\u001b[0m \u001b[38;5;28;01mimport\u001b[39;00m \u001b[38;5;21;01mmatplotlib\u001b[39;00m\u001b[38;5;21;01m.\u001b[39;00m\u001b[38;5;21;01mpyplot\u001b[39;00m \u001b[38;5;28;01mas\u001b[39;00m \u001b[38;5;21;01mplt\u001b[39;00m\n",
      "\u001b[1;31mModuleNotFoundError\u001b[0m: No module named 'simpy'"
     ]
    }
   ],
   "source": [
    "import simpy\n",
    "import numpy as np\n",
    "import matplotlib.pyplot as plt\n",
    "import random\n"
   ]
  },
  {
   "cell_type": "code",
   "execution_count": null,
   "metadata": {},
   "outputs": [],
   "source": [
    "# Used as a guide: https://simpy.readthedocs.io/en/latest/examples/bank_renege.html\n",
    "\n",
    "def source(env, time_total, Lambda, counter, waiting_times, mu):\n",
    "\n",
    "    for i in range(time_total):\n",
    "                \n",
    "        c = customer(env, f'Customer{i:02d}', counter, waiting_times, mu)\n",
    "\n",
    "        env.process(c)\n",
    "\n",
    "        t = random.expovariate(Lambda)\n",
    "\n",
    "        yield env.timeout(t)\n",
    "\n",
    "def customer(env, name, counter, timer, mu):\n",
    "\n",
    "    arrive = env.now\n",
    "\n",
    "    with counter.request() as req:\n",
    "\n",
    "        yield req\n",
    "\n",
    "        wait = env.now - arrive\n",
    "        timer.append(wait)\n",
    "\n",
    "        time_in = random.expovariate(mu)\n",
    "        yield env.timeout(time_in)\n",
    "\n",
    "\n",
    "def run_simulation(num_servers, N, Lambda, mu, time_total):\n",
    "    \n",
    "    timer = []\n",
    "\n",
    "    for test in range(N):\n",
    "\n",
    "        env = simpy.Environment()\n",
    "\n",
    "        counter = simpy.Resource(env, capacity=num_servers)\n",
    " \n",
    "        env.process(source(env, time_total, Lambda, counter, timer, mu))\n",
    "\n",
    "        env.run()\n",
    "\n",
    "    return np.mean(timer)"
   ]
  },
  {
   "cell_type": "code",
   "execution_count": null,
   "metadata": {},
   "outputs": [],
   "source": [
    "mu = 1\n",
    "Lambda = np.linspace(0.1, 0.99, 20)\n",
    "time_total = 1000\n",
    "\n",
    "#amount of repeats\n",
    "N = 50\n",
    "\n",
    "#For now only made with one run, not taking averages yet\n",
    "for servers in [1,2,4]:\n",
    " \n",
    "    collected_times = []\n",
    "\n",
    "    for value in Lambda:\n",
    "\n",
    "        result = run_simulation(servers, 1, value, mu, time_total)\n",
    "        collected_times.append(result)\n",
    "\n",
    "\n",
    "    plt.plot(Lambda, collected_times, label = f'n = {servers}')\n",
    "\n",
    "plt.legend()\n",
    "plt.show()"
   ]
  },
  {
   "cell_type": "code",
   "execution_count": null,
   "metadata": {},
   "outputs": [],
   "source": [
    "\n",
    "# Trying again for different load values\n",
    "load = np.linspace(0.1, 0.99, 30)\n",
    "\n",
    "mu = 1\n",
    "time_total = 1000\n",
    "\n",
    "#amount of repeats\n",
    "N = 100\n",
    "\n",
    "for servers in [1,2,4]:\n",
    " \n",
    "    collected_times = []\n",
    "\n",
    "    for value in load:\n",
    "\n",
    "        Lambda = value * servers * mu\n",
    "\n",
    "        result = run_simulation(servers, N, Lambda, mu, time_total)\n",
    "        collected_times.append(result)\n",
    "\n",
    "\n",
    "    plt.plot(load, collected_times,'o', label = f'n = {servers}')\n",
    "\n",
    "plt.legend()\n",
    "plt.grid()\n",
    "plt.yscale('log')\n",
    "plt.xlabel('load')\n",
    "plt.ylabel('average wait time')\n",
    "plt.show()"
   ]
  }
 ],
 "metadata": {
  "kernelspec": {
   "display_name": "Python 3",
   "language": "python",
   "name": "python3"
  },
  "language_info": {
   "codemirror_mode": {
    "name": "ipython",
    "version": 3
   },
   "file_extension": ".py",
   "mimetype": "text/x-python",
   "name": "python",
   "nbconvert_exporter": "python",
   "pygments_lexer": "ipython3",
   "version": "3.11.9"
  }
 },
 "nbformat": 4,
 "nbformat_minor": 2
}
